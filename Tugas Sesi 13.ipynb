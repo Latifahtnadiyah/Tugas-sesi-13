{
 "cells": [
  {
   "cell_type": "markdown",
   "id": "a123030b",
   "metadata": {},
   "source": [
    "# Latifah Tasliyatunadiyah"
   ]
  },
  {
   "cell_type": "markdown",
   "id": "187dbcc0",
   "metadata": {},
   "source": [
    "a. ImportError\n",
    "\n",
    "ImportError terjadi ketika sebuah program mencoba untuk mengimport modul atau paket yang tidak ditemukan atau tidak dapat diakses. Hal ini dapat terjadi karena modul atau paket tersebut tidak ada dalam sistem, atau karena tidak ada dalam PYTHONPATH (lokasi dimana Python mencari modul dan paket) atau karena terdapat kesalahan pada nama modul atau paket yang diimport. Contoh:"
   ]
  },
  {
   "cell_type": "code",
   "execution_count": 2,
   "id": "7840a1c9",
   "metadata": {},
   "outputs": [
    {
     "ename": "ModuleNotFoundError",
     "evalue": "No module named 'modul'",
     "output_type": "error",
     "traceback": [
      "\u001b[1;31m---------------------------------------------------------------------------\u001b[0m",
      "\u001b[1;31mModuleNotFoundError\u001b[0m                       Traceback (most recent call last)",
      "Input \u001b[1;32mIn [2]\u001b[0m, in \u001b[0;36m<cell line: 1>\u001b[1;34m()\u001b[0m\n\u001b[1;32m----> 1\u001b[0m \u001b[38;5;28;01mimport\u001b[39;00m \u001b[38;5;21;01mmodul\u001b[39;00m\n",
      "\u001b[1;31mModuleNotFoundError\u001b[0m: No module named 'modul'"
     ]
    }
   ],
   "source": [
    "import modul"
   ]
  },
  {
   "cell_type": "markdown",
   "id": "12139560",
   "metadata": {},
   "source": [
    "b. IOError\n",
    "\n",
    "IOError terjadi ketika sebuah program mengalami masalah saat melakukan operasi input/output seperti membaca atau menulis file. Hal ini dapat terjadi karena file yang akan dibaca atau ditulis tidak ditemukan, tidak dapat diakses karena hak akses yang tidak cukup, atau karena masalah lainnya seperti masalah jaringan atau masalah perangkat keras. Contoh:"
   ]
  },
  {
   "cell_type": "code",
   "execution_count": 4,
   "id": "35a36395",
   "metadata": {},
   "outputs": [
    {
     "ename": "FileNotFoundError",
     "evalue": "[Errno 2] No such file or directory: 'nofile.txt'",
     "output_type": "error",
     "traceback": [
      "\u001b[1;31m---------------------------------------------------------------------------\u001b[0m",
      "\u001b[1;31mFileNotFoundError\u001b[0m                         Traceback (most recent call last)",
      "Input \u001b[1;32mIn [4]\u001b[0m, in \u001b[0;36m<cell line: 1>\u001b[1;34m()\u001b[0m\n\u001b[1;32m----> 1\u001b[0m file \u001b[38;5;241m=\u001b[39m \u001b[38;5;28;43mopen\u001b[39;49m\u001b[43m(\u001b[49m\u001b[38;5;124;43m'\u001b[39;49m\u001b[38;5;124;43mnofile.txt\u001b[39;49m\u001b[38;5;124;43m'\u001b[39;49m\u001b[43m,\u001b[49m\u001b[38;5;124;43m'\u001b[39;49m\u001b[38;5;124;43mr\u001b[39;49m\u001b[38;5;124;43m'\u001b[39;49m\u001b[43m)\u001b[49m\n\u001b[0;32m      2\u001b[0m file\u001b[38;5;241m.\u001b[39mwrite(\u001b[38;5;124m'\u001b[39m\u001b[38;5;124mlatifah nadiyah\u001b[39m\u001b[38;5;124m'\u001b[39m)\n\u001b[0;32m      3\u001b[0m \u001b[38;5;28mprint\u001b[39m(\u001b[38;5;124m'\u001b[39m\u001b[38;5;124mError\u001b[39m\u001b[38;5;124m'\u001b[39m)\n",
      "\u001b[1;31mFileNotFoundError\u001b[0m: [Errno 2] No such file or directory: 'nofile.txt'"
     ]
    }
   ],
   "source": [
    "file = open('nofile.txt','r')\n",
    "file.write('latifah nadiyah')\n",
    "print('Error')"
   ]
  },
  {
   "cell_type": "markdown",
   "id": "d4bf85af",
   "metadata": {},
   "source": [
    "c. NameError\n",
    "\n",
    "NameError terjadi ketika sebuah variabel atau fungsi yang tidak didefinisikan diakses oleh program. Hal ini dapat terjadi karena kesalahan ketik atau karena sebuah variabel atau fungsi belum didefinisikan sebelum digunakan dalam program. Contoh:"
   ]
  },
  {
   "cell_type": "code",
   "execution_count": 6,
   "id": "4af3fde5",
   "metadata": {},
   "outputs": [
    {
     "ename": "NameError",
     "evalue": "name 'name' is not defined",
     "output_type": "error",
     "traceback": [
      "\u001b[1;31m---------------------------------------------------------------------------\u001b[0m",
      "\u001b[1;31mNameError\u001b[0m                                 Traceback (most recent call last)",
      "Input \u001b[1;32mIn [6]\u001b[0m, in \u001b[0;36m<cell line: 2>\u001b[1;34m()\u001b[0m\n\u001b[0;32m      1\u001b[0m nama \u001b[38;5;241m=\u001b[39m \u001b[38;5;124m\"\u001b[39m\u001b[38;5;124mLatifah\u001b[39m\u001b[38;5;124m\"\u001b[39m\n\u001b[1;32m----> 2\u001b[0m \u001b[38;5;28mprint\u001b[39m(\u001b[43mname\u001b[49m)\n",
      "\u001b[1;31mNameError\u001b[0m: name 'name' is not defined"
     ]
    }
   ],
   "source": [
    "nama = \"Latifah\"\n",
    "print(name)"
   ]
  },
  {
   "cell_type": "markdown",
   "id": "87966488",
   "metadata": {},
   "source": [
    "d. ZeroDivisionError\n",
    "\n",
    "ZeroDivisionError terjadi ketika sebuah bilangan dibagi dengan nol. Hal ini tidak dapat dilakukan dalam matematika, dan akan menyebabkan error dalam program. Contoh:"
   ]
  },
  {
   "cell_type": "code",
   "execution_count": 7,
   "id": "243e599d",
   "metadata": {},
   "outputs": [
    {
     "ename": "ZeroDivisionError",
     "evalue": "division by zero",
     "output_type": "error",
     "traceback": [
      "\u001b[1;31m---------------------------------------------------------------------------\u001b[0m",
      "\u001b[1;31mZeroDivisionError\u001b[0m                         Traceback (most recent call last)",
      "Input \u001b[1;32mIn [7]\u001b[0m, in \u001b[0;36m<cell line: 4>\u001b[1;34m()\u001b[0m\n\u001b[0;32m      1\u001b[0m a \u001b[38;5;241m=\u001b[39m \u001b[38;5;241m5\u001b[39m\n\u001b[0;32m      2\u001b[0m b \u001b[38;5;241m=\u001b[39m \u001b[38;5;241m0\u001b[39m\n\u001b[1;32m----> 4\u001b[0m hasil\u001b[38;5;241m=\u001b[39m \u001b[43ma\u001b[49m\u001b[38;5;241;43m/\u001b[39;49m\u001b[43mb\u001b[49m\n\u001b[0;32m      5\u001b[0m \u001b[38;5;28mprint\u001b[39m(hasil)\n",
      "\u001b[1;31mZeroDivisionError\u001b[0m: division by zero"
     ]
    }
   ],
   "source": [
    "a = 5\n",
    "b = 0\n",
    "\n",
    "hasil= a/b\n",
    "print(hasil)"
   ]
  },
  {
   "cell_type": "markdown",
   "id": "e8119ebc",
   "metadata": {},
   "source": [
    "Exception Handling adalah suatu proses pengolahan error yang terjadi pada suatu program. Proses ini meliputi identifikasi, penanganan, dan pemberitahuan kepada pengguna tentang error yang terjadi. Dengan menggunakan Exception Handling, program dapat terus berlanjut tanpa terhenti serta meminimalkan dampak yang terjadi akibat error."
   ]
  },
  {
   "cell_type": "markdown",
   "id": "2fcb2e69",
   "metadata": {},
   "source": [
    "Menangkap exception merupakan salah satu proses dalam Exception Handling. Proses ini bertujuan untuk mendeteksi error yang terjadi di program dan mengeksekusi suatu prosedur tertentu untuk menangani error tersebut. Proses ini juga akan mengirimkan notifikasi kepada pengguna tentang error yang terjadi."
   ]
  }
 ],
 "metadata": {
  "kernelspec": {
   "display_name": "Python 3 (ipykernel)",
   "language": "python",
   "name": "python3"
  },
  "language_info": {
   "codemirror_mode": {
    "name": "ipython",
    "version": 3
   },
   "file_extension": ".py",
   "mimetype": "text/x-python",
   "name": "python",
   "nbconvert_exporter": "python",
   "pygments_lexer": "ipython3",
   "version": "3.9.12"
  }
 },
 "nbformat": 4,
 "nbformat_minor": 5
}
